{
 "cells": [
  {
   "cell_type": "code",
   "execution_count": null,
   "metadata": {
    "collapsed": true
   },
   "outputs": [],
   "source": [
    "'''\n",
    "자판기같은 자판기입니다.\n",
    "미구현 코드 투성이지만 오늘의 주인공은 jupyter이므로 알 바 아니라고 생각합니다.\n",
    "하지만 jupyter 마저 쓰기가 쉽지 않습니다. 결국 다 망했습니다.\n",
    "망했어요\n",
    "'''\n",
    "\n",
    "class VendingMachine:\n",
    "    # 자판기 초기화 과정\n",
    "    # 데이터를 불러옵니다. (없으면 빈 자판기를 만듭니다.)\n",
    "    def __init__(self, datafile=null):\n",
    "        if datafile is null:\n",
    "            # 데이터 없는 경우\n",
    "            clear\n",
    "        else:\n",
    "            try:\n",
    "                load(datafile)\n",
    "            except FileNotFoundError:\n",
    "                # 파일 못 찾은 경우는 없는 경우로 간주\n",
    "                # 뭔가 값을 리턴해서 없는 경우와 구분할 수 있게 만들면 좋겠지만 귀찮습니다.\n",
    "                clear\n",
    "\n",
    "    # 품목 관련 함수\n",
    "    # 초기화(clear), 파일 로드(load)\n",
    "    def clear:\n",
    "        # 대충 음료수 아무 것도 없는 진열대 만드는 부분\n",
    "        pass\n",
    "\n",
    "    def load(filename):\n",
    "        # 대충 파일에서 정보 뜯어오는 부분\n",
    "        with open(filename) as f:\n",
    "            # 귀찮아서 미구현\n",
    "            pass\n",
    "    \n",
    "    # 코드 미구현의 핵심 원인: 뭔 속성을 구현할지 구상하기가 귀찮다.\n",
    "    # 여러분들은 저처럼 귀찮음의 노예가 되어 아무것도 진행하지 못하는 참사에 말려들지 말길 바라요 ^^;;\n",
    "    # 추하다 추해\n",
    "\n"
   ]
  },
  {
   "cell_type": "code",
   "execution_count": null,
   "metadata": {
    "collapsed": true
   },
   "outputs": [],
   "source": [
    "'''\n",
    "코드만 봐도 음료수를 실제로 뽑는다는 느낌을 받을 수 있다면 어떨까 하는 느낌으로 기획해봤습니다.\n",
    "가독성이 올라갈 순 있겠으나 메모리나 연산 부분에서의 효율은 똥방귀일 것으로 예상됩니다.\n",
    "하지만 알 게 뭡니까! 바퀴도 네모든 세모든 굴러만 가면 바퀴인 판에 자판기가 암만 느려도 뽑히면 자판기지\n",
    "'''\n",
    "\n",
    "\n",
    "class Drink:\n",
    "    def __init__(self, name):\n",
    "        pass\n"
   ]
  }
 ],
 "metadata": {
  "kernelspec": {
   "display_name": "Python 3",
   "language": "python",
   "name": "python3"
  },
  "language_info": {
   "codemirror_mode": {
    "name": "ipython",
    "version": 3
   },
   "file_extension": ".py",
   "mimetype": "text/x-python",
   "name": "python",
   "nbconvert_exporter": "python",
   "pygments_lexer": "ipython3",
   "version": "3.4.3"
  }
 },
 "nbformat": 4,
 "nbformat_minor": 2
}
